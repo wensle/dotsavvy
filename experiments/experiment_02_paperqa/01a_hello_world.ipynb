{
 "cells": [
  {
   "cell_type": "code",
   "execution_count": 3,
   "metadata": {},
   "outputs": [],
   "source": [
    "import nest_asyncio\n",
    "nest_asyncio.apply()"
   ]
  },
  {
   "cell_type": "code",
   "execution_count": 4,
   "metadata": {},
   "outputs": [],
   "source": [
    "from paperqa import Docs\n",
    "from langchain.llms import OpenAIChat\n",
    "from langchain.chat_models import ChatOpenAI\n",
    "\n",
    "from dotsavvy.utils.env_variables import get_env_variable\n",
    "\n",
    "\n",
    "model = ChatOpenAI(model=get_env_variable(\"DOTSAVVY_LLM_NAME\"))\n",
    "\n",
    "docs = Docs(llm=model, summary_llm=model)"
   ]
  },
  {
   "cell_type": "code",
   "execution_count": 5,
   "metadata": {},
   "outputs": [],
   "source": [
    "from pathlib import Path\n",
    "from typing import Generator\n",
    "\n",
    "\n",
    "from config import PDFS_BASE_DIR\n",
    "from dotsavvy.datastore.pinecone.types import METADATA\n",
    "\n",
    "_INPUT_DIR: Path = PDFS_BASE_DIR / \"raw_data\"\n",
    "_OUTPUT_FILE_PATH: Path = PDFS_BASE_DIR / \"processed_data\" / \"embedding_tuples.pkl\"\n",
    "\n",
    "\n",
    "def get_pdf_paths(\n",
    "    input_dir: Path,\n",
    ") -> Generator[tuple[str, METADATA], None, None]:\n",
    "    for raw_data_file in input_dir.glob(\"*.pdf\"):\n",
    "        yield str(raw_data_file)\n",
    "\n",
    "\n",
    "for d in get_pdf_paths(_INPUT_DIR):\n",
    "    docs.add(d)"
   ]
  },
  {
   "cell_type": "code",
   "execution_count": 6,
   "metadata": {},
   "outputs": [
    {
     "name": "stdout",
     "output_type": "stream",
     "text": [
      "Question: What is the DOT Framework?\n",
      "\n",
      "The DOT Framework is a research strategy for Human-Computer Interaction (HCI) that aims to develop a mixed-method design for HCI. It identifies two domains of study for HCI professionals, namely the application domain and the domain of available work. The framework also identifies three trade-offs in research design: rigor vs. relevance, certainty vs. completeness, and inspiration vs. data. It replaces the distinction between qualitative and quantitative research with five research strategies: exploratory, descriptive, explanatory, evaluative, and design research. The DOT Framework aims to optimize the certainty of outcomes through controlled experimentation and involves the use of \"showroom methods\" which make specific work more reusable by other researchers. It can be used as a planning and reflection tool for research and as a tool to achieve common ground in multidisciplinary projects (Turnhout2014 pages 2-3, 3-4, 4-5; Van2013 pages 6-7). It is recommended to use this material at the beginning of the first year of study and can be integrated into a project module (No pages 25-27).\n",
      "\n",
      "References\n",
      "\n",
      "1. (Turnhout2014): van Turnhout, Koen, et al. \"Design Patterns for Mixed-Method Research in HCI.\" Conference Paper, October 2014, doi: 10.13140/2.1.4701.2643.\n",
      "\n",
      "2. (No): No citation can be provided as the given text does not come from a published source.\n",
      "\n",
      "3. (Van2013): Van Turnhout, Koen, et al. “Tradeoffs in Design Research: Development Oriented Triangulation.” Conference Paper, September 2013, doi: 10.14236/ewic/HCI2013.3.\n",
      "\n",
      "Tokens Used: 10851 Cost: $0.02\n"
     ]
    }
   ],
   "source": [
    "answer = docs.query(\"What is the DOT Framework?\")\n",
    "print(answer.formatted_answer)"
   ]
  },
  {
   "cell_type": "code",
   "execution_count": 8,
   "metadata": {},
   "outputs": [
    {
     "name": "stdout",
     "output_type": "stream",
     "text": [
      "Question: What is the Second layer of the DOT Framework? Include examples.\n",
      "\n",
      "The second layer of the DOT Framework is the epistemological trade-offs layer, which identifies three trade-offs between basic values in research design that cannot be optimized simultaneously: rigor and relevance, certainty and completeness, and inspiration-oriented approaches and data-oriented approaches. Researchers need to triangulate these trade-offs by choosing appropriate research strategies. The showroom methods of this layer help make specific work more reusable by other researchers through the creation of design frameworks or guidelines intended to highlight considerations that go beyond individual designs. Examples of discovery-oriented strategies for this layer include case studies, interviews, and surveys, while creation-oriented strategies include prototyping, usability testing, and A/B testing. Examples of showroom methods include explicit comparison of an algorithm's performance with a benchmark and a critique of a finished design in relation to existing work (Turnhout2014).\n",
      "\n",
      "References\n",
      "\n",
      "1. (Turnhout2014): van Turnhout, Koen, et al. \"Design Patterns for Mixed-Method Research in HCI.\" Conference Paper, October 2014, doi: 10.13140/2.1.4701.2643.\n",
      "\n",
      "2. (Van2013): Van Turnhout, Koen, et al. “Tradeoffs in Design Research: Development Oriented Triangulation.” Conference Paper, September 2013, doi: 10.14236/ewic/HCI2013.3.\n",
      "\n",
      "3. (No): No citation can be provided as the given text does not come from a published source.\n",
      "\n",
      "Tokens Used: 6535 Cost: $0.01\n"
     ]
    }
   ],
   "source": [
    "answer = docs.query(\"What is the Second layer of the DOT Framework? Include examples.\")\n",
    "print(answer.formatted_answer)"
   ]
  },
  {
   "cell_type": "code",
   "execution_count": 9,
   "metadata": {},
   "outputs": [
    {
     "name": "stdout",
     "output_type": "stream",
     "text": [
      "Question: In the second layer of the DOT Framework, what is rigor?\n",
      "\n",
      "In the second layer of the DOT Framework, rigor refers to the thoroughness to which the innovation is grounded in available work. It is a trade-off with relevance, which is the solution's suitability for the application domain. The two values are both long-term goals for HCI research but are difficult to optimize simultaneously within a single research strategy. Researchers need to triangulate rigor and relevance by using multiple research cycles and creating showroom methods, such as design frameworks or guidelines, to make specific work more reusable by other researchers (Turnhout2014 pages 3-4, Turnhout2014 pages 4-5, Van2014 pages 7-7).\n",
      "\n",
      "References\n",
      "\n",
      "1. (Turnhout2014): van Turnhout, Koen, et al. \"Design Patterns for Mixed-Method Research in HCI.\" Conference Paper, October 2014, doi: 10.13140/2.1.4701.2643.\n",
      "\n",
      "2. (Van2014): Van Turnhout, Koen, et al. \"De methodenkaart praktijkonderzoek.\" April 2014. ResearchGate, https://www.researchgate.net/publication/272421605_De_methodenkaart_praktijkonderzoek. Accessed 18 June 2023.\n",
      "\n",
      "Tokens Used: 5414 Cost: $0.01\n"
     ]
    }
   ],
   "source": [
    "answer = docs.query(\"In the second layer of the DOT Framework, what is rigor?\")\n",
    "print(answer.formatted_answer)"
   ]
  },
  {
   "cell_type": "code",
   "execution_count": 10,
   "metadata": {},
   "outputs": [
    {
     "name": "stdout",
     "output_type": "stream",
     "text": [
      "Question: In the second layer of the DOT Framework, what is relevance?\n",
      "\n",
      "In the second layer of the DOT Framework, relevance is defined as the extent to which a solution is suitable for the application domain. It is one of the three knowledge domains in the \"What\" domain, alongside validity and reliability. Relevance involves a trade-off between learning about and changing the application domain, and learning about and contributing to available work. Researchers must choose whether to optimize relevance or rigor, which is the extent to which the solution builds on existing work. Triangulating rigor and relevance is important, as they are both long-term goals for HCI research but are difficult to optimize simultaneously within a single research strategy (Turnhout2014 pages 3-4, Van2014 pages 7-7, No pages 1-2).\n",
      "\n",
      "References\n",
      "\n",
      "1. (Turnhout2014): van Turnhout, Koen, et al. \"Design Patterns for Mixed-Method Research in HCI.\" Conference Paper, October 2014, doi: 10.13140/2.1.4701.2643.\n",
      "\n",
      "2. (Van2014): Van Turnhout, Koen, et al. \"De methodenkaart praktijkonderzoek.\" April 2014. ResearchGate, https://www.researchgate.net/publication/272421605_De_methodenkaart_praktijkonderzoek. Accessed 18 June 2023.\n",
      "\n",
      "3. (No): No citation can be provided as the given text does not come from a published source.\n",
      "\n",
      "Tokens Used: 5000 Cost: $0.01\n"
     ]
    }
   ],
   "source": [
    "answer = docs.query(\"In the second layer of the DOT Framework, what is relevance?\")\n",
    "print(answer.formatted_answer)"
   ]
  },
  {
   "cell_type": "code",
   "execution_count": 13,
   "metadata": {},
   "outputs": [
    {
     "name": "stderr",
     "output_type": "stream",
     "text": [
      "Retrying langchain.chat_models.openai.acompletion_with_retry.<locals>._completion_with_retry in 1.0 seconds as it raised RateLimitError: That model is currently overloaded with other requests. You can retry your request, or contact us through our help center at help.openai.com if the error persists. (Please include the request ID 81daa86b3ee5dcaa3e271f819bc7fc61 in your message.).\n"
     ]
    },
    {
     "name": "stdout",
     "output_type": "stream",
     "text": [
      "Question: Give me examples of research using the DOT Framework.\n",
      "\n",
      "The article by Van (2014) presents the DOT-framework and explains how the framework was developed to provide a mixed-method theory fitting for the HCI field, including an ontology, epistemology, and axiology. However, the text does not provide specific examples of research using the DOT-framework. The article by Turnhout et al. (2013) discusses the application of the DOT framework to ten Human-Computer Interaction (HCI) papers and provides an example of research by Hansen et al. (2012), who explored the idea of location-based voice messages through ‘talking badges’. Additionally, Grubert, Grasset & Reitmayr 2012 are an example of researchers who used the DOT-framework to make the interfacing of workshop studies with library, field, lab, and showroom in the reflective design cycle explicit (Turnhout et al., 2013, p. 6-7).\n",
      "\n",
      "References\n",
      "\n",
      "1. (Turnhout2013): Turnhout, Koen van, et al. “Tradeoffs in Design Research: Development Oriented Triangulation.” Proceedings of…, BCS Learning and Development Ltd., September 2013, doi:10.14236/ewic/HCI2013.3.\n",
      "\n",
      "2. (Van2014): Van Turnhout, Koen, et al. \"Design Patterns for Mixed-Method Research in HCI.\" Conference Paper, October 2014, doi: 10.13140/2.1.4701.2643.\n",
      "\n",
      "Tokens Used: 8909 Cost: $0.02\n"
     ]
    }
   ],
   "source": [
    "answer = docs.query(\"Give me examples of research using the DOT Framework.\")\n",
    "print(answer.formatted_answer)"
   ]
  },
  {
   "cell_type": "code",
   "execution_count": 11,
   "metadata": {},
   "outputs": [
    {
     "name": "stdout",
     "output_type": "stream",
     "text": [
      "Question: In the second layer of the DOT Framework, what is certainty and completeness? Include examples and elaboration.\n",
      "\n",
      "In the second layer of the DOT Framework, \"certainty\" refers to optimizing the certainty of outcomes through controlled experimentation, while \"completeness\" refers to the degree to which the research accounts for all relevant factors (Turnhout2014 pages 4-5). Examples of completeness include triangulation, member checking, and critical testing. Researchers must choose between the trade-off of precision and measurement, which would require laboratory experiments or judgment tasks, or the system character of context, which would use field studies or ethnography instead (Turnhout2014 pages 3-4). Triangulation, a research strategy in the second layer of the DOT Framework, involves combining multiple methods to increase the certainty and completeness of the findings. A triangulation quartet is an example of a tool used to combine data from four sources to provide a more complete and accurate picture (No pages 1-2).\n",
      "\n",
      "References\n",
      "\n",
      "1. (Turnhout2014): van Turnhout, Koen, et al. \"Design Patterns for Mixed-Method Research in HCI.\" Conference Paper, October 2014, doi: 10.13140/2.1.4701.2643.\n",
      "\n",
      "2. (No): No citation can be provided as the given text does not come from a published source.\n",
      "\n",
      "Tokens Used: 3366 Cost: $0.01\n"
     ]
    }
   ],
   "source": [
    "answer = docs.query(\"In the second layer of the DOT Framework, what is certainty and completeness? Include examples and elaboration.\")\n",
    "print(answer.formatted_answer)"
   ]
  },
  {
   "cell_type": "code",
   "execution_count": 12,
   "metadata": {},
   "outputs": [
    {
     "name": "stdout",
     "output_type": "stream",
     "text": [
      "Question: Define the term certainty in the second layer of the DOT Framework.\n",
      "\n",
      "In the second layer of the DOT Framework, \"certainty\" refers to optimizing the certainty of research outcomes through controlled experimentation (Turnhout2014, 4-5). It is a trade-off between precision of measurement and the system character of context, where researchers who choose precision of measurement use laboratory experiments or judgment tasks, while researchers who value the system character of context would use field studies or ethnography instead (Turnhout2014, 3-4; Van2013, 3-4). The goal is to have a complete understanding of the context while ensuring certainty in theories, ideas, or solutions (Van2013, 3-4).\n",
      "\n",
      "References\n",
      "\n",
      "1. (Turnhout2014): van Turnhout, Koen, et al. \"Design Patterns for Mixed-Method Research in HCI.\" Conference Paper, October 2014, doi: 10.13140/2.1.4701.2643.\n",
      "\n",
      "2. (Van2013): Van Turnhout, Koen, et al. “Tradeoffs in Design Research: Development Oriented Triangulation.” Conference Paper, September 2013, doi: 10.14236/ewic/HCI2013.3.\n",
      "\n",
      "Tokens Used: 3558 Cost: $0.01\n"
     ]
    }
   ],
   "source": [
    "answer = docs.query(\"Define the term certainty in the second layer of the DOT Framework.\")\n",
    "print(answer.formatted_answer)"
   ]
  },
  {
   "cell_type": "code",
   "execution_count": 14,
   "metadata": {},
   "outputs": [
    {
     "name": "stdout",
     "output_type": "stream",
     "text": [
      "Question: Define the terms inspiration-oriented approaches and data-oriented approaches in the second layer of the DOT Framework.\n",
      "\n",
      "The DOT Framework identifies inspiration-oriented approaches as those that require researcher involvement and subjectivity, while data-oriented approaches view the researcher as an independent observer of reality. Inspiration-oriented approaches are also known as 'intuitive' or 'phenomenological,' while data-oriented approaches are also called 'analytic' or 'positivistic.' Inspiration-oriented approaches prioritize personal involvement and acknowledge the researcher's influence, while data-oriented methods focus on objective findings. Both approaches have a place in the methodological toolkit and are traced back to philosophical debates between positivism and phenomenology (Turnhout2014 pages 3-4, Van2014 pages 7-8, Turnhout2014 pages 2-3).\n",
      "\n",
      "References\n",
      "\n",
      "1. (Turnhout2014): van Turnhout, Koen, et al. \"Design Patterns for Mixed-Method Research in HCI.\" Conference Paper, October 2014, doi: 10.13140/2.1.4701.2643.\n",
      "\n",
      "2. (Van2014): Van Turnhout, Koen, et al. \"De methodenkaart praktijkonderzoek.\" April 2014. ResearchGate, https://www.researchgate.net/publication/272421605_De_methodenkaart_praktijkonderzoek. Accessed 18 June 2023.\n",
      "\n",
      "3. (Van2013): Van Turnhout, Koen, et al. “Tradeoffs in Design Research: Development Oriented Triangulation.” Conference Paper, September 2013, doi: 10.14236/ewic/HCI2013.3.\n",
      "\n",
      "Tokens Used: 8916 Cost: $0.02\n"
     ]
    }
   ],
   "source": [
    "answer = docs.query(\"Define the terms inspiration-oriented approaches and data-oriented approaches in the second layer of the DOT Framework.\")\n",
    "print(answer.formatted_answer)"
   ]
  },
  {
   "cell_type": "code",
   "execution_count": 15,
   "metadata": {},
   "outputs": [
    {
     "name": "stdout",
     "output_type": "stream",
     "text": [
      "Question: Define the terms inspiration-oriented approach in the second layer of the DOT Framework. Include examples.\n",
      "\n",
      "According to the DOT Framework, inspiration-oriented approaches are methods that aim to critique the design in comparison with other designs that served as inspiration in earlier stages. They are a subcategory of research methods that fall under the second layer of the framework, which explores the application domain. An inspiration-oriented approach can be used as a replacement for a field study to explore future use-contexts and can involve experimenter control. The creation of design frameworks or guidelines, which highlight considerations that go beyond individual designs, is also part of inspiration-oriented methods (Van2013 pages 5-5). Examples of inspiration-oriented approaches include an inspiration-oriented lab study that aimed to create representative situations for an application context and test novel insights against the application domain. Another example is a paper on remote assistance configurations that convincingly applied this approach (Turnhout2014 pages 9-9).\n",
      "\n",
      "References\n",
      "\n",
      "1. (Van2013): Van Turnhout, Koen, et al. “Tradeoffs in Design Research: Development Oriented Triangulation.” Conference Paper, September 2013, doi: 10.14236/ewic/HCI2013.3.\n",
      "\n",
      "2. (Turnhout2014): van Turnhout, Koen, et al. \"Design Patterns for Mixed-Method Research in HCI.\" Conference Paper, October 2014, doi: 10.13140/2.1.4701.2643.\n",
      "\n",
      "Tokens Used: 8839 Cost: $0.02\n"
     ]
    }
   ],
   "source": [
    "answer = docs.query(\"Define the terms inspiration-oriented approach in the second layer of the DOT Framework. Include examples.\")\n",
    "print(answer.formatted_answer)"
   ]
  },
  {
   "cell_type": "code",
   "execution_count": 16,
   "metadata": {},
   "outputs": [
    {
     "name": "stdout",
     "output_type": "stream",
     "text": [
      "Question: Define the terms inspiration-oriented approaches and data-oriented approaches in the second layer of the DOT Framework. Elaborate on the differences between the two. Include examples.\n",
      "\n",
      "The second layer of the DOT framework categorizes research studies into two types: inspiration-oriented and data-oriented approaches. Inspiration-oriented approaches are subjective and focus on creative and innovative ideas to generate new knowledge. They are concerned with optimization of relevance and rely on the researcher's personal influence on the outcome. Examples of inspiration-oriented approaches include showroom studies, which compare designs that served as inspiration in earlier stages and critique the proposed design, and lab studies that aim to create representative situations for the application context. On the other hand, data-oriented approaches are objective and use empirical data to support their claims. They are concerned with rigor and certainty and view the researcher as an independent observer of reality. Examples of data-oriented approaches include field studies, which use real-world settings to collect data, and pattern recognition algorithms that compare the performance of the algorithm to other approaches to the problem. The distinction between these two approaches has historical roots in the philosophical debate between positivism and phenomenology. Both approaches deserve a place in the methods map. (Van2014 pages 7-8, Van2013 pages 4-5, Turnhout2014 pages 3-4)\n",
      "\n",
      "References\n",
      "\n",
      "1. (Van2014): Van Turnhout, Koen, et al. \"De methodenkaart praktijkonderzoek.\" April 2014. ResearchGate, https://www.researchgate.net/publication/272421605_De_methodenkaart_praktijkonderzoek. Accessed 18 June 2023.\n",
      "\n",
      "2. (Van2013): Van Turnhout, Koen, et al. “Tradeoffs in Design Research: Development Oriented Triangulation.” Conference Paper, September 2013, doi: 10.14236/ewic/HCI2013.3.\n",
      "\n",
      "3. (Turnhout2014): van Turnhout, Koen, et al. \"Design Patterns for Mixed-Method Research in HCI.\" Conference Paper, October 2014, doi: 10.13140/2.1.4701.2643.\n",
      "\n",
      "Tokens Used: 6924 Cost: $0.01\n"
     ]
    }
   ],
   "source": [
    "answer = docs.query(\"\"\"Define the terms inspiration-oriented approaches and data-oriented approaches in the second layer of the DOT Framework. Elaborate on the differences between the two. Include examples.\"\"\")\n",
    "print(answer.formatted_answer)"
   ]
  },
  {
   "cell_type": "code",
   "execution_count": 17,
   "metadata": {},
   "outputs": [
    {
     "name": "stderr",
     "output_type": "stream",
     "text": [
      "Retrying langchain.embeddings.openai.embed_with_retry.<locals>._embed_with_retry in 4.0 seconds as it raised APIConnectionError: Error communicating with OpenAI: ('Connection aborted.', RemoteDisconnected('Remote end closed connection without response')).\n"
     ]
    },
    {
     "name": "stdout",
     "output_type": "stream",
     "text": [
      "Question: Which layers does the DOT Framework specify?\n",
      "\n",
      "The DOT Framework specifies three layers: the first layer is the application domain and the domain of available work, the second layer is axiological in nature and identifies three trade-offs between basic values in research design, and the third layer is the epistemological layer and includes five research strategies (Turnhout2014 pages 3-4).\n",
      "\n",
      "References\n",
      "\n",
      "1. (Turnhout2014): van Turnhout, Koen, et al. \"Design Patterns for Mixed-Method Research in HCI.\" Conference Paper, October 2014, doi: 10.13140/2.1.4701.2643.\n",
      "\n",
      "2. (Van2013): Van Turnhout, Koen, et al. “Tradeoffs in Design Research: Development Oriented Triangulation.” Conference Paper, September 2013, doi: 10.14236/ewic/HCI2013.3.\n",
      "\n",
      "3. (Van2014): Van Turnhout, Koen, et al. \"De methodenkaart praktijkonderzoek.\" April 2014. ResearchGate, https://www.researchgate.net/publication/272421605_De_methodenkaart_praktijkonderzoek. Accessed 18 June 2023.\n",
      "\n",
      "Tokens Used: 8243 Cost: $0.02\n"
     ]
    }
   ],
   "source": [
    "answer = docs.query(\"Which layers does the DOT Framework specify?\")\n",
    "print(answer.formatted_answer)"
   ]
  },
  {
   "cell_type": "code",
   "execution_count": 18,
   "metadata": {},
   "outputs": [
    {
     "name": "stderr",
     "output_type": "stream",
     "text": [
      "Retrying langchain.embeddings.openai.embed_with_retry.<locals>._embed_with_retry in 4.0 seconds as it raised APIConnectionError: Error communicating with OpenAI: ('Connection aborted.', RemoteDisconnected('Remote end closed connection without response')).\n"
     ]
    },
    {
     "name": "stdout",
     "output_type": "stream",
     "text": [
      "Question: Does the DOT Framework say that you should use a main research question?\n",
      "\n",
      "The article does not provide a clear answer on whether the DOT-framework recommends using a main research question (Turnhout2014, 2-3).\n",
      "\n",
      "References\n",
      "\n",
      "1. (Turnhout2014): van Turnhout, Koen, et al. \"Design Patterns for Mixed-Method Research in HCI.\" Conference Paper, October 2014, doi: 10.13140/2.1.4701.2643.\n",
      "\n",
      "Tokens Used: 1407 Cost: $0.00\n"
     ]
    }
   ],
   "source": [
    "answer = docs.query(\"Does the DOT Framework say that you should use a main research question?\")\n",
    "print(answer.formatted_answer)"
   ]
  },
  {
   "cell_type": "code",
   "execution_count": 19,
   "metadata": {},
   "outputs": [
    {
     "name": "stdout",
     "output_type": "stream",
     "text": [
      "Question: Does the DOT Framework say that it is okay to use multiple research questions, without a main question?\n",
      "\n",
      "The article does not provide any information on whether the DOT Framework allows the use of multiple research questions without a main question (Turnhout2014). Therefore, it is impossible to determine whether the DOT Framework permits the use of multiple research questions without a main question.\n",
      "\n",
      "References\n",
      "\n",
      "1. (Turnhout2014): van Turnhout, Koen, et al. \"Design Patterns for Mixed-Method Research in HCI.\" Conference Paper, October 2014, doi: 10.13140/2.1.4701.2643.\n",
      "\n",
      "Tokens Used: 1455 Cost: $0.00\n"
     ]
    }
   ],
   "source": [
    "answer = docs.query(\"Does the DOT Framework say that it is okay to use multiple research questions, without a main question?\")\n",
    "print(answer.formatted_answer)"
   ]
  },
  {
   "cell_type": "code",
   "execution_count": 20,
   "metadata": {},
   "outputs": [
    {
     "name": "stderr",
     "output_type": "stream",
     "text": [
      "Retrying langchain.chat_models.openai.acompletion_with_retry.<locals>._completion_with_retry in 1.0 seconds as it raised RateLimitError: That model is currently overloaded with other requests. You can retry your request, or contact us through our help center at help.openai.com if the error persists. (Please include the request ID 997ca6808bef2ec4edb8aad0c5514208 in your message.).\n"
     ]
    },
    {
     "name": "stdout",
     "output_type": "stream",
     "text": [
      "Question: Is there a definitive list of research methods that the DOT Framework says you should use?\n",
      "\n",
      "According to Turnhout2014 pages 4-4, the DOT-framework replaces the distinction between qualitative and quantitative methods used in social sciences by five distinct research strategies for HCI, which are library, field, workshop, lab, and factory, and each has its purpose and application. However, according to the other sources, No pages 17-22, Turnhout2014 pages 2-3, Van2014 pages 1-2, there is no mention of a definitive list of research methods that the DOT Framework recommends. Therefore, it can be concluded that there is no definitive list of research methods that the DOT Framework says one should use.\n",
      "\n",
      "References\n",
      "\n",
      "1. (Turnhout2014): van Turnhout, Koen, et al. \"Design Patterns for Mixed-Method Research in HCI.\" Conference Paper, October 2014, doi: 10.13140/2.1.4701.2643.\n",
      "\n",
      "2. (No): No citation can be provided as the given text does not come from a published source.\n",
      "\n",
      "3. (Van2014): Van Turnhout, Koen, et al. \"De methodenkaart praktijkonderzoek.\" April 2014. ResearchGate, https://www.researchgate.net/publication/272421605_De_methodenkaart_praktijkonderzoek. Accessed 18 June 2023.\n",
      "\n",
      "Tokens Used: 7463 Cost: $0.01\n"
     ]
    }
   ],
   "source": [
    "answer = docs.query(\"Is there a definitive list of research methods that the DOT Framework says you should use?\")\n",
    "print(answer.formatted_answer)"
   ]
  },
  {
   "cell_type": "code",
   "execution_count": null,
   "metadata": {},
   "outputs": [],
   "source": []
  }
 ],
 "metadata": {
  "kernelspec": {
   "display_name": "dotsavvy-8IKj5uE2-py3.10",
   "language": "python",
   "name": "python3"
  },
  "language_info": {
   "codemirror_mode": {
    "name": "ipython",
    "version": 3
   },
   "file_extension": ".py",
   "mimetype": "text/x-python",
   "name": "python",
   "nbconvert_exporter": "python",
   "pygments_lexer": "ipython3",
   "version": "3.10.6"
  },
  "orig_nbformat": 4
 },
 "nbformat": 4,
 "nbformat_minor": 2
}
