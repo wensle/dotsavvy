{
 "cells": [
  {
   "cell_type": "code",
   "execution_count": 1,
   "metadata": {},
   "outputs": [],
   "source": [
    "from dotenv import load_dotenv\n",
    "from langchain.agents import AgentExecutor, AgentType, Tool, initialize_agent\n",
    "from langchain.chains.conversation.memory import ConversationBufferWindowMemory\n",
    "from langchain.chat_models import ChatOpenAI\n",
    "from langchain.tools import HumanInputRun\n",
    "from langchain.utilities import GoogleSerperAPIWrapper\n",
    "\n",
    "from config import DOT_ENV_FILE_PATH\n",
    "from dotsavvy.langchain.tools import DOTFrameworkKnowledgeBase\n",
    "from dotsavvy.utils.env_variables import get_env_variable\n",
    "\n",
    "openai_api_key: str = get_env_variable(\"OPENAI_API_KEY\")\n",
    "llm_name: str = get_env_variable(\"DOTSAVVY_LLM_NAME\")\n",
    "llm = ChatOpenAI(openai_api_key=openai_api_key, model_name=llm_name)\n",
    "conversational_memory = ConversationBufferWindowMemory(\n",
    "    memory_key=\"chat_history\",\n",
    "    input_key=\"input\",\n",
    "    output_key=\"output\",\n",
    "    k=5,\n",
    ")\n",
    "load_dotenv(dotenv_path=DOT_ENV_FILE_PATH)\n",
    "search = GoogleSerperAPIWrapper()\n",
    "tools = [\n",
    "    DOTFrameworkKnowledgeBase(),\n",
    "    Tool(\n",
    "        name=\"Search the internet\",\n",
    "        func=search.run,\n",
    "        description=\"useful for when you need to ask with search. This tool has no knowledge about the DOT Framework.\",\n",
    "    ),\n",
    "    HumanInputRun()\n",
    "    \n",
    "]\n",
    "\n",
    "agent: AgentExecutor = initialize_agent(\n",
    "    agent=AgentType.CHAT_ZERO_SHOT_REACT_DESCRIPTION,\n",
    "    tools=tools,\n",
    "    llm=llm,\n",
    "    verbose=True,\n",
    "    max_iterations=3,\n",
    "    early_stopping_method=\"generate\",\n",
    "    memory=conversational_memory,\n",
    "    return_intermediate_steps=True,\n",
    "    handle_parsing_errors=True\n",
    ")"
   ]
  },
  {
   "cell_type": "code",
   "execution_count": 2,
   "metadata": {},
   "outputs": [
    {
     "name": "stdout",
     "output_type": "stream",
     "text": [
      "\n",
      "\n",
      "\u001b[1m> Entering new AgentExecutor chain...\u001b[0m\n",
      "\u001b[32;1m\u001b[1;3mThought: This is a general question about research, so I think the best tool to use is Search the internet.\n",
      "\n",
      "Action:\n",
      "```\n",
      "{\n",
      "  \"action\": \"Search the internet\",\n",
      "  \"action_input\": \"What are some examples of research questions?\"\n",
      "}\n",
      "```\n",
      "\n",
      "\u001b[0m\n",
      "Observation: \u001b[33;1m\u001b[1;3m Research Question Type Question Formulation/Example Correlational research question What is the relationship between baldness and age? Exploratory research question Is it possible that VEGF has an effect in plant photosynthesis? Explanatory research question What is the cause of increased violence among young adults?\u001b[0m\n",
      "Thought:\u001b[32;1m\u001b[1;3mIt seems like the question is asking for examples of research questions, so the above observation is helpful. However, it might be useful to provide more specific examples related to a particular field.\n",
      "\n",
      "Action:\n",
      "```\n",
      "{\n",
      "  \"action\": \"Search the internet\",\n",
      "  \"action_input\": \"What are some examples of research questions in the field of psychology?\"\n",
      "}\n",
      "```\n",
      "\n",
      "\u001b[0m\n",
      "Observation: \u001b[33;1m\u001b[1;3mSocial Psychology Research Topics How does social anxiety affect people? How does peer pressure affect teenagers? How do violent video games affect children and their brain development? How does divorce affect the emotional development of a child? Feb 10, 2023\u001b[0m\n",
      "Thought:\u001b[32;1m\u001b[1;3mThe previous observation provides some specific examples of research questions in the field of psychology. It might be useful to also look for examples from other fields to provide a more comprehensive answer.\n",
      "\n",
      "Action:\n",
      "```\n",
      "{\n",
      "  \"action\": \"Search the internet\",\n",
      "  \"action_input\": \"What are some examples of research questions in the field of biology?\"\n",
      "}\n",
      "```\n",
      "\n",
      "\n",
      "\u001b[0m\n",
      "Observation: \u001b[33;1m\u001b[1;3m* How do different types of selective pressures on individuals shape the    evolution of animal social systems?  * What role (if any) does infectious disease play in conservation management    planning for endangered populations?\u001b[0m\n",
      "Thought:\u001b[32;1m\u001b[1;3mFinal Answer: Research questions are specific and focused inquiries that researchers ask to investigate a particular phenomenon. Examples of research questions can vary across different fields, such as psychology, biology, and social sciences. Some examples of research questions in psychology include how social anxiety affects people or how violent video games affect children's brain development. In biology, research questions might focus on how different types of selective pressures shape the evolution of animal social systems or what role infectious diseases play in conservation management planning for endangered populations.\u001b[0m\n",
      "\n",
      "\u001b[1m> Finished chain.\u001b[0m\n"
     ]
    },
    {
     "data": {
      "text/plain": [
       "{'input': 'Identify research questions',\n",
       " 'chat_history': '',\n",
       " 'output': \"Research questions are specific and focused inquiries that researchers ask to investigate a particular phenomenon. Examples of research questions can vary across different fields, such as psychology, biology, and social sciences. Some examples of research questions in psychology include how social anxiety affects people or how violent video games affect children's brain development. In biology, research questions might focus on how different types of selective pressures shape the evolution of animal social systems or what role infectious diseases play in conservation management planning for endangered populations.\",\n",
       " 'intermediate_steps': [(AgentAction(tool='Search the internet', tool_input='What are some examples of research questions?', log='Thought: This is a general question about research, so I think the best tool to use is Search the internet.\\n\\nAction:\\n```\\n{\\n  \"action\": \"Search the internet\",\\n  \"action_input\": \"What are some examples of research questions?\"\\n}\\n```\\n\\n'),\n",
       "   ' Research Question Type Question Formulation/Example Correlational research question What is the relationship between baldness and age? Exploratory research question Is it possible that VEGF has an effect in plant photosynthesis? Explanatory research question What is the cause of increased violence among young adults?'),\n",
       "  (AgentAction(tool='Search the internet', tool_input='What are some examples of research questions in the field of psychology?', log='It seems like the question is asking for examples of research questions, so the above observation is helpful. However, it might be useful to provide more specific examples related to a particular field.\\n\\nAction:\\n```\\n{\\n  \"action\": \"Search the internet\",\\n  \"action_input\": \"What are some examples of research questions in the field of psychology?\"\\n}\\n```\\n\\n'),\n",
       "   'Social Psychology Research Topics How does social anxiety affect people? How does peer pressure affect teenagers? How do violent video games affect children and their brain development? How does divorce affect the emotional development of a child? Feb 10, 2023'),\n",
       "  (AgentAction(tool='Search the internet', tool_input='What are some examples of research questions in the field of biology?', log='The previous observation provides some specific examples of research questions in the field of psychology. It might be useful to also look for examples from other fields to provide a more comprehensive answer.\\n\\nAction:\\n```\\n{\\n  \"action\": \"Search the internet\",\\n  \"action_input\": \"What are some examples of research questions in the field of biology?\"\\n}\\n```\\n\\n\\n'),\n",
       "   '* How do different types of selective pressures on individuals shape the    evolution of animal social systems?  * What role (if any) does infectious disease play in conservation management    planning for endangered populations?')]}"
      ]
     },
     "execution_count": 2,
     "metadata": {},
     "output_type": "execute_result"
    }
   ],
   "source": [
    "agent(\"Identify research questions\")"
   ]
  },
  {
   "cell_type": "code",
   "execution_count": null,
   "metadata": {},
   "outputs": [],
   "source": []
  }
 ],
 "metadata": {
  "kernelspec": {
   "display_name": "dotsavvy-8IKj5uE2-py3.10",
   "language": "python",
   "name": "python3"
  },
  "language_info": {
   "codemirror_mode": {
    "name": "ipython",
    "version": 3
   },
   "file_extension": ".py",
   "mimetype": "text/x-python",
   "name": "python",
   "nbconvert_exporter": "python",
   "pygments_lexer": "ipython3",
   "version": "3.10.6"
  },
  "orig_nbformat": 4
 },
 "nbformat": 4,
 "nbformat_minor": 2
}
