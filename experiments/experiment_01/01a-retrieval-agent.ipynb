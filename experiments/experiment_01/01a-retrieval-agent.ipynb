{
 "cells": [
  {
   "cell_type": "code",
   "execution_count": 15,
   "metadata": {},
   "outputs": [],
   "source": [
    "from dotsavvy.services.vectorstore import create_pinecone_vectorstore\n",
    "\n",
    "\n",
    "vectorstore = create_pinecone_vectorstore()"
   ]
  },
  {
   "cell_type": "code",
   "execution_count": 16,
   "metadata": {},
   "outputs": [
    {
     "data": {
      "text/plain": [
       "[Document(page_content='Expert interview\\n\\nWhy?\\nA domain expert can put you on the right track when\\nyou enter a new domain or field of expertise. The\\nexpert can recommend sources, give you a sense of\\ndirection or point out common pitfalls.\\nHow?\\nFind an expert who is willing to talk to you about the\\nproblem and arrange an interview.\\nIngredients\\nAn expert in your problem domain.\\nA realistic sense about what experts can and cannot offer.\\nThe right questions to ask.\\nAn open mind, so the expert can also bring in their own topics.\\nInterviewing techniques.\\nIn practice\\nExpert interviews are a common method for getting\\na grip on a new problem area that you are not\\nfamiliar with. Because experts can draw on their own\\nexperience, the information they provide may be\\nmore relevant than information you can gather from\\nliterature.', metadata={'backlinks': ['Methods', 'Methods per Project Phase', 'Solidify', 'Validate', 'Library methods for machine learning'], 'categories': ['Category:Library'], 'document_id': 'ea654b71-4ca3-4217-9c84-9068f102c1c1', 'source': 'https://ictresearchmethods.nl/Expert_interview', 'title': 'Expert interview'}),\n",
       " Document(page_content=\"Interview\\n\\nWhy?\\nLearn from potential users of your new product and\\nother stakeholders.\\nHow?\\nInterviews allow you to better understand users\\nand other stakeholders by gathering their opinions,\\nbehaviours, goals, attitudes and experiences. Invite\\nrepresentative participants from each stakeholder\\ngroup, make them feel comfortable and ask questions\\nabout your topic of interest (e.g. product usage).\\nReport on your interviews in an appropriate way\\nIngredients\\nTypically 5 to 10 interviewees, representing the relevant stakeholders.\\nA clear goal for what you want to obtain.\\nAn interview guide with topics or questions.\\nActive listening skills.\\nThe ability to improvise and ask 'why' a lot.\\nA plan for how to capture and analyse the interview results.\\nIn practice\\nInterviews are widely used throughout IT projects, but\\nmost often in the early stages of a project.\", metadata={'backlinks': ['Methods', 'Methods per Project Phase', 'Solidify', 'Realise as required', 'Field methods for machine learning'], 'categories': ['Category:Field'], 'document_id': 'b4869cf8-50d5-4d59-92e9-dec3120350a4', 'source': 'https://ictresearchmethods.nl/Interview', 'title': 'Interview'}),\n",
       " Document(page_content='Peer review\\n\\nWhy?\\nColleagues and experts can help improve your work,\\nespecially if they need to reuse it.\\nHow?\\nOrganise a representative group of experts and\\nhave them look at your work in a structured way.\\nPeer reviews can be done in formal and less formal\\nways. What makes or breaks the review is getting the\\nright colleagues or experts and giving them the right\\ninstructions for looking at and reporting about your\\nwork.\\nIngredients\\nSomewhere between 1 and 10 colleagues or other (external) experts.\\nA way to show your work (e.g. a big screen or printouts).\\nReview instructions and reporting guidelines.\\nA laptop to make notes of your own observations and conclusions.\\nIn practice\\nThere are many forms of peer review in practice,\\nranging from a quick (but structured) glance at your\\nwork by a colleague to a full session with multiple\\nexperts who watch you talk them through your work\\non a big screen.', metadata={'backlinks': ['Methods', 'Methods per Project Phase', 'Validate', 'Realise as an expert', 'Showroom methods for machine learning'], 'categories': ['Category:Showroom'], 'document_id': '1ac35655-835b-42f5-9d2b-31812e498071', 'source': 'https://ictresearchmethods.nl/Peer_review', 'title': 'Peer review'})]"
      ]
     },
     "execution_count": 16,
     "metadata": {},
     "output_type": "execute_result"
    }
   ],
   "source": [
    "query = \"What is an expert interview?\"\n",
    "\n",
    "vectorstore.similarity_search(\n",
    "    query,  # our search query\n",
    "    k=3  # return 3 most relevant docs\n",
    ")"
   ]
  },
  {
   "cell_type": "code",
   "execution_count": 17,
   "metadata": {},
   "outputs": [
    {
     "data": {
      "text/plain": [
       "'An expert interview is a method used to obtain information and advice from a domain expert in order to gain a better understanding of a particular problem or area of expertise. It involves finding an expert in the relevant domain and arranging an interview to ask questions and gain insights. Expert interviews are often used when entering a new field or domain, and the expert can recommend sources, give direction, or point out common pitfalls. The ingredients for an expert interview include an expert in the problem domain, a realistic understanding of what an expert can offer, the right questions to ask, an open mind, and interviewing techniques.'"
      ]
     },
     "execution_count": 17,
     "metadata": {},
     "output_type": "execute_result"
    }
   ],
   "source": [
    "from dotsavvy.agents.conversation import ConversationAgent\n",
    "\n",
    "agent = ConversationAgent()\n",
    "\n",
    "agent.run(\"What is an expert interview?\")"
   ]
  },
  {
   "cell_type": "code",
   "execution_count": 18,
   "metadata": {},
   "outputs": [],
   "source": [
    "from dotsavvy.langchain.tools import DOTFrameworkKnowledgeBase\n",
    "\n",
    "tools = [DOTFrameworkKnowledgeBase()]"
   ]
  },
  {
   "cell_type": "code",
   "execution_count": 19,
   "metadata": {},
   "outputs": [
    {
     "data": {
      "text/plain": [
       "{'question': 'What is an expert interview?',\n",
       " 'answer': 'An expert interview is a method for getting a grip on a new problem area that you are not familiar with by finding an expert who is willing to talk to you about the problem and arranging an interview. It allows you to better understand users and other stakeholders by gathering their opinions, behaviours, goals, attitudes and experiences. Peer review is a structured way of having colleagues or other experts look at your work to improve it. Realise as an expert is a pattern for creating innovations that can be used on a broader scale by using available knowledge to create generic solutions that contribute to the body of knowledge in the particular field of research. \\n',\n",
       " 'sources': 'https://ictresearchmethods.nl/Expert_interview, https://ictresearchmethods.nl/Interview, https://ictresearchmethods.nl/Peer_review, https://ictresearchmethods.nl/Realise_as_an_expert'}"
      ]
     },
     "execution_count": 19,
     "metadata": {},
     "output_type": "execute_result"
    }
   ],
   "source": [
    "tools[0].run(\"What is an expert interview?\")"
   ]
  },
  {
   "cell_type": "code",
   "execution_count": 20,
   "metadata": {},
   "outputs": [],
   "source": [
    "from langchain.agents import initialize_agent\n",
    "\n",
    "from dotsavvy.utils.env_variables import get_env_variable\n",
    "from langchain.chat_models import ChatOpenAI\n",
    "from langchain.chains.conversation.memory import ConversationBufferWindowMemory\n",
    "from langchain.agents import AgentType\n",
    "\n",
    "\n",
    "openai_api_key: str = get_env_variable(\"DOTSAVVY_OPENAI_API_KEY\")\n",
    "llm_name: str = get_env_variable(\"DOTSAVVY_LLM_NAME\")\n",
    "llm = ChatOpenAI(openai_api_key=openai_api_key, model_name=llm_name)\n",
    "conversational_memory = ConversationBufferWindowMemory(\n",
    "    memory_key=\"chat_history\", k=5, return_messages=True\n",
    ")\n",
    "\n",
    "agent = initialize_agent(\n",
    "    agent=AgentType.CHAT_CONVERSATIONAL_REACT_DESCRIPTION,\n",
    "    tools=tools,\n",
    "    llm=llm,\n",
    "    verbose=True,\n",
    "    max_iterations=3,\n",
    "    early_stopping_method=\"generate\",\n",
    "    memory=conversational_memory,\n",
    "    # return_intermediate_steps=True\n",
    ")"
   ]
  },
  {
   "cell_type": "code",
   "execution_count": 21,
   "metadata": {},
   "outputs": [
    {
     "name": "stdout",
     "output_type": "stream",
     "text": [
      "\n",
      "\n",
      "\u001b[1m> Entering new AgentExecutor chain...\u001b[0m\n",
      "\u001b[32;1m\u001b[1;3m{\n",
      "    \"action\": \"Search the DOT framework Knowledge base\",\n",
      "    \"action_input\": \"What is an expert interview?\"\n",
      "}\u001b[0m\n",
      "Observation: \u001b[36;1m\u001b[1;3m{'question': 'What is an expert interview?', 'answer': 'An expert interview is a method for getting a better understanding of a new problem area by consulting with a domain expert who can provide relevant information based on their own experience. It is useful for obtaining information that may not be available in literature. \\n', 'sources': 'https://ictresearchmethods.nl/Expert_interview'}\u001b[0m\n",
      "Thought:\u001b[32;1m\u001b[1;3m{\n",
      "    \"action\": \"Final Answer\",\n",
      "    \"action_input\": \"An expert interview is a method for getting a better understanding of a new problem area by consulting with a domain expert who can provide relevant information based on their own experience. It is useful for obtaining information that may not be available in literature.\"\n",
      "}\u001b[0m\n",
      "\n",
      "\u001b[1m> Finished chain.\u001b[0m\n"
     ]
    },
    {
     "data": {
      "text/plain": [
       "{'input': 'What is an expert interview?',\n",
       " 'chat_history': [],\n",
       " 'output': 'An expert interview is a method for getting a better understanding of a new problem area by consulting with a domain expert who can provide relevant information based on their own experience. It is useful for obtaining information that may not be available in literature.'}"
      ]
     },
     "execution_count": 21,
     "metadata": {},
     "output_type": "execute_result"
    }
   ],
   "source": [
    "agent(\"What is an expert interview?\")"
   ]
  },
  {
   "cell_type": "code",
   "execution_count": 22,
   "metadata": {},
   "outputs": [
    {
     "name": "stdout",
     "output_type": "stream",
     "text": [
      "\n",
      "\n",
      "\u001b[1m> Entering new AgentExecutor chain...\u001b[0m\n",
      "\u001b[32;1m\u001b[1;3m{\n",
      "    \"action\": \"Search the DOT framework Knowledge base\",\n",
      "    \"action_input\": \"What makes a good research question?\"\n",
      "}\u001b[0m\n",
      "Observation: \u001b[36;1m\u001b[1;3m{'question': 'What makes a good research question?', 'answer': 'A good research question requires a clear idea of the research goal or question to be answered, sources of research methods, and a willingness to aim for the best solution. It is important to have a critical view and a thorough understanding of the proposed solution. In ICT research, the Development Oriented Triangulation (DOT) framework can help structure and communicate research, consisting of the \"What\" (domains), \"Why\" (trade-offs), and \"How\" (strategies and methods) of research. The DOT framework includes five research strategies: library, field, lab, showroom, and workshop research, which can be combined through method', 'sources': ''}\u001b[0m\n",
      "Thought:\u001b[32;1m\u001b[1;3m{\n",
      "    \"action\": \"Final Answer\",\n",
      "    \"action_input\": \"A good research question requires a clear idea of the research goal or question to be answered, sources of research methods, and a willingness to aim for the best solution. It is important to have a critical view and a thorough understanding of the proposed solution. In ICT research, the Development Oriented Triangulation (DOT) framework can help structure and communicate research, consisting of the \\\"What\\\" (domains), \\\"Why\\\" (trade-offs), and \\\"How\\\" (strategies and methods) of research. The DOT framework includes five research strategies: library, field, lab, showroom, and workshop research, which can be combined through method.\"\n",
      "}\u001b[0m\n",
      "\n",
      "\u001b[1m> Finished chain.\u001b[0m\n"
     ]
    },
    {
     "data": {
      "text/plain": [
       "{'input': 'What is a good research question?',\n",
       " 'chat_history': [HumanMessage(content='What is an expert interview?', additional_kwargs={}, example=False),\n",
       "  AIMessage(content='An expert interview is a method for getting a better understanding of a new problem area by consulting with a domain expert who can provide relevant information based on their own experience. It is useful for obtaining information that may not be available in literature.', additional_kwargs={}, example=False)],\n",
       " 'output': 'A good research question requires a clear idea of the research goal or question to be answered, sources of research methods, and a willingness to aim for the best solution. It is important to have a critical view and a thorough understanding of the proposed solution. In ICT research, the Development Oriented Triangulation (DOT) framework can help structure and communicate research, consisting of the \"What\" (domains), \"Why\" (trade-offs), and \"How\" (strategies and methods) of research. The DOT framework includes five research strategies: library, field, lab, showroom, and workshop research, which can be combined through method.'}"
      ]
     },
     "execution_count": 22,
     "metadata": {},
     "output_type": "execute_result"
    }
   ],
   "source": [
    "agent(\"What is a good research question?\")"
   ]
  },
  {
   "cell_type": "code",
   "execution_count": 23,
   "metadata": {},
   "outputs": [
    {
     "name": "stdout",
     "output_type": "stream",
     "text": [
      "\n",
      "\n",
      "\u001b[1m> Entering new AgentExecutor chain...\u001b[0m\n",
      "\u001b[32;1m\u001b[1;3m```json\n",
      "{\n",
      "    \"action\": \"Search the DOT framework Knowledge base\",\n",
      "    \"action_input\": \"How is research done using the DOT framework?\"\n",
      "}\n",
      "```\u001b[0m\n",
      "Observation: \u001b[36;1m\u001b[1;3m{'question': 'How is research done using the DOT framework?', 'answer': 'The DOT Framework is a research framework that consists of three levels: \"What\" of the research (the domains), \"Why\" of the research (the trade-offs), and \"How\" of the research (the strategies and methods). The framework includes five research strategies: library research, field research, lab research, showroom research, and workshop research, which can be combined using method triangulation to cover different views and tackle trade-offs. The DOT Framework can help structure research and select appropriate methods for ICT projects. \\n', 'sources': 'https://ictresearchmethods.nl/The_DOT_Framework, https://ictresearchmethods.nl/Main_Page.'}\u001b[0m\n",
      "Thought:\u001b[32;1m\u001b[1;3m```json\n",
      "{\n",
      "    \"action\": \"Final Answer\",\n",
      "    \"action_input\": \"The DOT Framework is a research framework that consists of three levels: \\\"What\\\" of the research (the domains), \\\"Why\\\" of the research (the trade-offs), and \\\"How\\\" of the research (the strategies and methods). The framework includes five research strategies: library research, field research, lab research, showroom research, and workshop research, which can be combined using method triangulation to cover different views and tackle trade-offs. The DOT Framework can help structure research and select appropriate methods for ICT projects.\"\n",
      "}\n",
      "```\u001b[0m\n",
      "\n",
      "\u001b[1m> Finished chain.\u001b[0m\n"
     ]
    },
    {
     "data": {
      "text/plain": [
       "{'input': 'What does the DOT framework say about how to do research?',\n",
       " 'chat_history': [HumanMessage(content='What is an expert interview?', additional_kwargs={}, example=False),\n",
       "  AIMessage(content='An expert interview is a method for getting a better understanding of a new problem area by consulting with a domain expert who can provide relevant information based on their own experience. It is useful for obtaining information that may not be available in literature.', additional_kwargs={}, example=False),\n",
       "  HumanMessage(content='What is a good research question?', additional_kwargs={}, example=False),\n",
       "  AIMessage(content='A good research question requires a clear idea of the research goal or question to be answered, sources of research methods, and a willingness to aim for the best solution. It is important to have a critical view and a thorough understanding of the proposed solution. In ICT research, the Development Oriented Triangulation (DOT) framework can help structure and communicate research, consisting of the \"What\" (domains), \"Why\" (trade-offs), and \"How\" (strategies and methods) of research. The DOT framework includes five research strategies: library, field, lab, showroom, and workshop research, which can be combined through method.', additional_kwargs={}, example=False)],\n",
       " 'output': 'The DOT Framework is a research framework that consists of three levels: \"What\" of the research (the domains), \"Why\" of the research (the trade-offs), and \"How\" of the research (the strategies and methods). The framework includes five research strategies: library research, field research, lab research, showroom research, and workshop research, which can be combined using method triangulation to cover different views and tackle trade-offs. The DOT Framework can help structure research and select appropriate methods for ICT projects.'}"
      ]
     },
     "execution_count": 23,
     "metadata": {},
     "output_type": "execute_result"
    }
   ],
   "source": [
    "agent(\"What does the DOT framework say about how to do research?\")"
   ]
  },
  {
   "cell_type": "code",
   "execution_count": 24,
   "metadata": {},
   "outputs": [
    {
     "name": "stdout",
     "output_type": "stream",
     "text": [
      "\n",
      "\n",
      "\u001b[1m> Entering new AgentExecutor chain...\u001b[0m\n",
      "\u001b[32;1m\u001b[1;3m{\n",
      "    \"action\": \"Search the DOT framework Knowledge base\",\n",
      "    \"action_input\": \"what is the DOT framework?\"\n",
      "}\u001b[0m\n",
      "Observation: \u001b[36;1m\u001b[1;3m{'question': 'what is the DOT framework?', 'answer': 'The DOT Framework is a framework for ICT research that consists of three levels: the \"What\" of the research (the domains), the \"Why\" of the research (the trade-offs), and the \"How\" of the research (the strategies and methods). The framework is designed to help structure and communicate about ICT research, and consists of five research strategies: library research, field research, lab research, showroom research, and workshop research. The framework emphasizes the importance of combining methods to cover different views and achieve both \"fit\" and \"expertise,\" as well as \"overview\" and \"certainty.\" \"Method triangulation\" is a common approach to combining methods with opposing goals. \\n', 'sources': 'https://ictresearchmethods.nl/The_DOT_Framework, https://ictresearchmethods.nl/Main_Page'}\u001b[0m\n",
      "Thought:\u001b[32;1m\u001b[1;3m{\n",
      "    \"action\": \"Final Answer\",\n",
      "    \"action_input\": \"The last tool response was about the DOT Framework. It explained that the DOT Framework is a framework for ICT research that consists of three levels: the \\\"What\\\" of the research (the domains), the \\\"Why\\\" of the research (the trade-offs), and the \\\"How\\\" of the research (the strategies and methods). It also consists of five research strategies: library research, field research, lab research, showroom research, and workshop research. The framework emphasizes the importance of combining methods to cover different views and achieve both \\\"fit\\\" and \\\"expertise,\\\" as well as \\\"overview\\\" and \\\"certainty.\\\" \\\"Method triangulation\\\" is a common approach to combining methods with opposing goals.\"\n",
      "}\u001b[0m\n",
      "\n",
      "\u001b[1m> Finished chain.\u001b[0m\n"
     ]
    },
    {
     "data": {
      "text/plain": [
       "{'input': 'what did I ask you last?',\n",
       " 'chat_history': [HumanMessage(content='What is an expert interview?', additional_kwargs={}, example=False),\n",
       "  AIMessage(content='An expert interview is a method for getting a better understanding of a new problem area by consulting with a domain expert who can provide relevant information based on their own experience. It is useful for obtaining information that may not be available in literature.', additional_kwargs={}, example=False),\n",
       "  HumanMessage(content='What is a good research question?', additional_kwargs={}, example=False),\n",
       "  AIMessage(content='A good research question requires a clear idea of the research goal or question to be answered, sources of research methods, and a willingness to aim for the best solution. It is important to have a critical view and a thorough understanding of the proposed solution. In ICT research, the Development Oriented Triangulation (DOT) framework can help structure and communicate research, consisting of the \"What\" (domains), \"Why\" (trade-offs), and \"How\" (strategies and methods) of research. The DOT framework includes five research strategies: library, field, lab, showroom, and workshop research, which can be combined through method.', additional_kwargs={}, example=False),\n",
       "  HumanMessage(content='What does the DOT framework say about how to do research?', additional_kwargs={}, example=False),\n",
       "  AIMessage(content='The DOT Framework is a research framework that consists of three levels: \"What\" of the research (the domains), \"Why\" of the research (the trade-offs), and \"How\" of the research (the strategies and methods). The framework includes five research strategies: library research, field research, lab research, showroom research, and workshop research, which can be combined using method triangulation to cover different views and tackle trade-offs. The DOT Framework can help structure research and select appropriate methods for ICT projects.', additional_kwargs={}, example=False)],\n",
       " 'output': 'The last tool response was about the DOT Framework. It explained that the DOT Framework is a framework for ICT research that consists of three levels: the \"What\" of the research (the domains), the \"Why\" of the research (the trade-offs), and the \"How\" of the research (the strategies and methods). It also consists of five research strategies: library research, field research, lab research, showroom research, and workshop research. The framework emphasizes the importance of combining methods to cover different views and achieve both \"fit\" and \"expertise,\" as well as \"overview\" and \"certainty.\" \"Method triangulation\" is a common approach to combining methods with opposing goals.'}"
      ]
     },
     "execution_count": 24,
     "metadata": {},
     "output_type": "execute_result"
    }
   ],
   "source": [
    "agent(\"what did I ask you last?\")"
   ]
  },
  {
   "cell_type": "code",
   "execution_count": 25,
   "metadata": {},
   "outputs": [
    {
     "name": "stdout",
     "output_type": "stream",
     "text": [
      "\n",
      "\n",
      "\u001b[1m> Entering new AgentExecutor chain...\u001b[0m\n",
      "\u001b[32;1m\u001b[1;3m{\n",
      "    \"action\": \"Final Answer\",\n",
      "    \"action_input\": \"Yes, I can still answer general questions. Please let me know what you would like to know.\"\n",
      "}\u001b[0m\n",
      "\n",
      "\u001b[1m> Finished chain.\u001b[0m\n"
     ]
    },
    {
     "data": {
      "text/plain": [
       "{'input': 'Can you still answer general questions?',\n",
       " 'chat_history': [HumanMessage(content='What is an expert interview?', additional_kwargs={}, example=False),\n",
       "  AIMessage(content='An expert interview is a method for getting a better understanding of a new problem area by consulting with a domain expert who can provide relevant information based on their own experience. It is useful for obtaining information that may not be available in literature.', additional_kwargs={}, example=False),\n",
       "  HumanMessage(content='What is a good research question?', additional_kwargs={}, example=False),\n",
       "  AIMessage(content='A good research question requires a clear idea of the research goal or question to be answered, sources of research methods, and a willingness to aim for the best solution. It is important to have a critical view and a thorough understanding of the proposed solution. In ICT research, the Development Oriented Triangulation (DOT) framework can help structure and communicate research, consisting of the \"What\" (domains), \"Why\" (trade-offs), and \"How\" (strategies and methods) of research. The DOT framework includes five research strategies: library, field, lab, showroom, and workshop research, which can be combined through method.', additional_kwargs={}, example=False),\n",
       "  HumanMessage(content='What does the DOT framework say about how to do research?', additional_kwargs={}, example=False),\n",
       "  AIMessage(content='The DOT Framework is a research framework that consists of three levels: \"What\" of the research (the domains), \"Why\" of the research (the trade-offs), and \"How\" of the research (the strategies and methods). The framework includes five research strategies: library research, field research, lab research, showroom research, and workshop research, which can be combined using method triangulation to cover different views and tackle trade-offs. The DOT Framework can help structure research and select appropriate methods for ICT projects.', additional_kwargs={}, example=False),\n",
       "  HumanMessage(content='what did I ask you last?', additional_kwargs={}, example=False),\n",
       "  AIMessage(content='The last tool response was about the DOT Framework. It explained that the DOT Framework is a framework for ICT research that consists of three levels: the \"What\" of the research (the domains), the \"Why\" of the research (the trade-offs), and the \"How\" of the research (the strategies and methods). It also consists of five research strategies: library research, field research, lab research, showroom research, and workshop research. The framework emphasizes the importance of combining methods to cover different views and achieve both \"fit\" and \"expertise,\" as well as \"overview\" and \"certainty.\" \"Method triangulation\" is a common approach to combining methods with opposing goals.', additional_kwargs={}, example=False)],\n",
       " 'output': 'Yes, I can still answer general questions. Please let me know what you would like to know.'}"
      ]
     },
     "execution_count": 25,
     "metadata": {},
     "output_type": "execute_result"
    }
   ],
   "source": [
    "agent(\"Can you still answer general questions?\")"
   ]
  },
  {
   "cell_type": "code",
   "execution_count": 1,
   "metadata": {},
   "outputs": [
    {
     "ename": "NameError",
     "evalue": "name 'agent' is not defined",
     "output_type": "error",
     "traceback": [
      "\u001b[0;31m---------------------------------------------------------------------------\u001b[0m",
      "\u001b[0;31mNameError\u001b[0m                                 Traceback (most recent call last)",
      "Cell \u001b[0;32mIn[1], line 1\u001b[0m\n\u001b[0;32m----> 1\u001b[0m agent(\u001b[39m\"\u001b[39m\u001b[39mIk doe een verkennend onderzoek naar de mogelijkheden om met nieuwe ICT-toepassingen de communicatie tussen artsen en patiënten te versterken. Welke methodes van het DOT-framework kan ik hiervoor gebruiken?\u001b[39m\u001b[39m\"\u001b[39m)\n",
      "\u001b[0;31mNameError\u001b[0m: name 'agent' is not defined"
     ]
    }
   ],
   "source": [
    "agent(\"Ik doe een verkennend onderzoek naar de mogelijkheden om met nieuwe ICT-toepassingen de communicatie tussen artsen en patiënten te versterken. Welke methodes kan ik gebruiken?\")"
   ]
  },
  {
   "cell_type": "code",
   "execution_count": null,
   "metadata": {},
   "outputs": [],
   "source": []
  }
 ],
 "metadata": {
  "kernelspec": {
   "display_name": "dotsavvy-8IKj5uE2-py3.10",
   "language": "python",
   "name": "python3"
  },
  "language_info": {
   "codemirror_mode": {
    "name": "ipython",
    "version": 3
   },
   "file_extension": ".py",
   "mimetype": "text/x-python",
   "name": "python",
   "nbconvert_exporter": "python",
   "pygments_lexer": "ipython3",
   "version": "3.10.6"
  },
  "orig_nbformat": 4
 },
 "nbformat": 4,
 "nbformat_minor": 2
}
