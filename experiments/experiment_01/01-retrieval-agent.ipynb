{
 "cells": [
  {
   "cell_type": "code",
   "execution_count": 1,
   "metadata": {},
   "outputs": [
    {
     "name": "stderr",
     "output_type": "stream",
     "text": [
      "/home/wensley/.cache/pypoetry/virtualenvs/dotsavvy-8IKj5uE2-py3.10/lib/python3.10/site-packages/pinecone/index.py:4: TqdmExperimentalWarning: Using `tqdm.autonotebook.tqdm` in notebook mode. Use `tqdm.tqdm` instead to force console mode (e.g. in jupyter console)\n",
      "  from tqdm.autonotebook import tqdm\n"
     ]
    },
    {
     "ename": "ValueError",
     "evalue": "Environment variable DOTSAVVY_PINECONE_API_KEY not found. Please set it using `export DOTSAVVY_PINECONE_API_KEY='your value'` in your terminal or set the variable in your .env file e.g. DOTSAVVY_PINECONE_API_KEY='your value'.",
     "output_type": "error",
     "traceback": [
      "\u001b[0;31m---------------------------------------------------------------------------\u001b[0m",
      "\u001b[0;31mValueError\u001b[0m                                Traceback (most recent call last)",
      "Cell \u001b[0;32mIn[1], line 4\u001b[0m\n\u001b[1;32m      1\u001b[0m \u001b[39mfrom\u001b[39;00m \u001b[39mdotsavvy\u001b[39;00m\u001b[39m.\u001b[39;00m\u001b[39mservices\u001b[39;00m\u001b[39m.\u001b[39;00m\u001b[39mvectorstore\u001b[39;00m \u001b[39mimport\u001b[39;00m create_pinecone_vectorstore\n\u001b[0;32m----> 4\u001b[0m vectorstore \u001b[39m=\u001b[39m create_pinecone_vectorstore()\n",
      "File \u001b[0;32m~/s6/dotsavvy/dotsavvy/services/vectorstore.py:11\u001b[0m, in \u001b[0;36mcreate_pinecone_vectorstore\u001b[0;34m(text_key)\u001b[0m\n\u001b[1;32m      9\u001b[0m \u001b[39mdef\u001b[39;00m \u001b[39mcreate_pinecone_vectorstore\u001b[39m(text_key: \u001b[39mstr\u001b[39m \u001b[39m|\u001b[39m \u001b[39mNone\u001b[39;00m \u001b[39m=\u001b[39m \u001b[39mNone\u001b[39;00m) \u001b[39m-\u001b[39m\u001b[39m>\u001b[39m Pinecone:\n\u001b[1;32m     10\u001b[0m     text_key \u001b[39m=\u001b[39m text_key \u001b[39mor\u001b[39;00m _TEXT_KEY\n\u001b[0;32m---> 11\u001b[0m     index \u001b[39m=\u001b[39m get_REST_index()\n\u001b[1;32m     12\u001b[0m     \u001b[39mreturn\u001b[39;00m Pinecone(\n\u001b[1;32m     13\u001b[0m         index\u001b[39m=\u001b[39mindex,\n\u001b[1;32m     14\u001b[0m         embedding_function\u001b[39m=\u001b[39membed_query,\n\u001b[1;32m     15\u001b[0m         text_key\u001b[39m=\u001b[39mtext_key,\n\u001b[1;32m     16\u001b[0m     )\n",
      "File \u001b[0;32m~/s6/dotsavvy/dotsavvy/datastore/pinecone/index.py:38\u001b[0m, in \u001b[0;36mget_REST_index\u001b[0;34m()\u001b[0m\n\u001b[1;32m     37\u001b[0m \u001b[39mdef\u001b[39;00m \u001b[39mget_REST_index\u001b[39m() \u001b[39m-\u001b[39m\u001b[39m>\u001b[39m Index:\n\u001b[0;32m---> 38\u001b[0m     init_pinecone()\n\u001b[1;32m     39\u001b[0m     index_name: \u001b[39mstr\u001b[39m \u001b[39m=\u001b[39m get_env_variable(\u001b[39m\"\u001b[39m\u001b[39mDOTSAVVY_PINECONE_INDEX_NAME\u001b[39m\u001b[39m\"\u001b[39m)\n\u001b[1;32m     40\u001b[0m     \u001b[39mreturn\u001b[39;00m pinecone\u001b[39m.\u001b[39mIndex(index_name)\n",
      "File \u001b[0;32m~/s6/dotsavvy/dotsavvy/datastore/pinecone/index.py:25\u001b[0m, in \u001b[0;36minit_pinecone\u001b[0;34m()\u001b[0m\n\u001b[1;32m     23\u001b[0m \u001b[39mif\u001b[39;00m _pinecone_initialized:\n\u001b[1;32m     24\u001b[0m     \u001b[39mreturn\u001b[39;00m\n\u001b[0;32m---> 25\u001b[0m api_key: \u001b[39mstr\u001b[39m \u001b[39m=\u001b[39m get_env_variable(\u001b[39m\"\u001b[39;49m\u001b[39mDOTSAVVY_PINECONE_API_KEY\u001b[39;49m\u001b[39m\"\u001b[39;49m)\n\u001b[1;32m     26\u001b[0m environment: \u001b[39mstr\u001b[39m \u001b[39m=\u001b[39m get_env_variable(\u001b[39m\"\u001b[39m\u001b[39mDOTSAVVY_PINECONE_ENVIRONMENT\u001b[39m\u001b[39m\"\u001b[39m)\n\u001b[1;32m     27\u001b[0m pinecone\u001b[39m.\u001b[39minit(api_key\u001b[39m=\u001b[39mapi_key, environment\u001b[39m=\u001b[39menvironment)\n",
      "File \u001b[0;32m~/s6/dotsavvy/dotsavvy/utils/env_variables.py:22\u001b[0m, in \u001b[0;36mget_env_variable\u001b[0;34m(key)\u001b[0m\n\u001b[1;32m     20\u001b[0m value: Optional[\u001b[39mstr\u001b[39m] \u001b[39m=\u001b[39m os\u001b[39m.\u001b[39menviron\u001b[39m.\u001b[39mget(key)\n\u001b[1;32m     21\u001b[0m \u001b[39mif\u001b[39;00m \u001b[39mnot\u001b[39;00m value:\n\u001b[0;32m---> 22\u001b[0m     \u001b[39mraise\u001b[39;00m \u001b[39mValueError\u001b[39;00m(\n\u001b[1;32m     23\u001b[0m         \u001b[39mf\u001b[39m\u001b[39m\"\u001b[39m\u001b[39mEnvironment variable \u001b[39m\u001b[39m{\u001b[39;00mkey\u001b[39m}\u001b[39;00m\u001b[39m not found. Please set it using \u001b[39m\u001b[39m\"\u001b[39m\n\u001b[1;32m     24\u001b[0m         \u001b[39mf\u001b[39m\u001b[39m\"\u001b[39m\u001b[39m`export \u001b[39m\u001b[39m{\u001b[39;00mkey\u001b[39m}\u001b[39;00m\u001b[39m=\u001b[39m\u001b[39m'\u001b[39m\u001b[39myour value\u001b[39m\u001b[39m'\u001b[39m\u001b[39m` in your terminal or set the variable in \u001b[39m\u001b[39m\"\u001b[39m\n\u001b[1;32m     25\u001b[0m         \u001b[39mf\u001b[39m\u001b[39m\"\u001b[39m\u001b[39myour .env file e.g. \u001b[39m\u001b[39m{\u001b[39;00mkey\u001b[39m}\u001b[39;00m\u001b[39m=\u001b[39m\u001b[39m'\u001b[39m\u001b[39myour value\u001b[39m\u001b[39m'\u001b[39m\u001b[39m.\u001b[39m\u001b[39m\"\u001b[39m\n\u001b[1;32m     26\u001b[0m     )\n\u001b[1;32m     27\u001b[0m \u001b[39mreturn\u001b[39;00m value\n",
      "\u001b[0;31mValueError\u001b[0m: Environment variable DOTSAVVY_PINECONE_API_KEY not found. Please set it using `export DOTSAVVY_PINECONE_API_KEY='your value'` in your terminal or set the variable in your .env file e.g. DOTSAVVY_PINECONE_API_KEY='your value'."
     ]
    }
   ],
   "source": [
    "from dotsavvy.services.vectorstore import create_pinecone_vectorstore\n",
    "\n",
    "\n",
    "vectorstore = create_pinecone_vectorstore()"
   ]
  },
  {
   "cell_type": "code",
   "execution_count": null,
   "metadata": {},
   "outputs": [
    {
     "data": {
      "text/plain": [
       "[Document(page_content='Expert interview\\n\\nWhy?\\nA domain expert can put you on the right track when\\nyou enter a new domain or field of expertise. The\\nexpert can recommend sources, give you a sense of\\ndirection or point out common pitfalls.\\nHow?\\nFind an expert who is willing to talk to you about the\\nproblem and arrange an interview.\\nIngredients\\nAn expert in your problem domain.\\nA realistic sense about what experts can and cannot offer.\\nThe right questions to ask.\\nAn open mind, so the expert can also bring in their own topics.\\nInterviewing techniques.\\nIn practice\\nExpert interviews are a common method for getting\\na grip on a new problem area that you are not\\nfamiliar with. Because experts can draw on their own\\nexperience, the information they provide may be\\nmore relevant than information you can gather from\\nliterature.', metadata={'backlinks': ['Methods', 'Methods per Project Phase', 'Solidify', 'Validate', 'Library methods for machine learning'], 'categories': ['Category:Library'], 'document_id': '44c1bc51-844a-4927-89ef-415bd4b2656c', 'title': 'Expert interview', 'url': 'https://ictresearchmethods.nl/Expert_interview'}),\n",
       " Document(page_content=\"Interview\\n\\nWhy?\\nLearn from potential users of your new product and\\nother stakeholders.\\nHow?\\nInterviews allow you to better understand users\\nand other stakeholders by gathering their opinions,\\nbehaviours, goals, attitudes and experiences. Invite\\nrepresentative participants from each stakeholder\\ngroup, make them feel comfortable and ask questions\\nabout your topic of interest (e.g. product usage).\\nReport on your interviews in an appropriate way\\nIngredients\\nTypically 5 to 10 interviewees, representing the relevant stakeholders.\\nA clear goal for what you want to obtain.\\nAn interview guide with topics or questions.\\nActive listening skills.\\nThe ability to improvise and ask 'why' a lot.\\nA plan for how to capture and analyse the interview results.\\nIn practice\\nInterviews are widely used throughout IT projects, but\\nmost often in the early stages of a project.\", metadata={'backlinks': ['Methods', 'Methods per Project Phase', 'Solidify', 'Realise as required', 'Field methods for machine learning'], 'categories': ['Category:Field'], 'document_id': 'e219920c-ac75-4218-b38d-1a5bec5c0c25', 'title': 'Interview', 'url': 'https://ictresearchmethods.nl/Interview'}),\n",
       " Document(page_content='Peer review\\n\\nWhy?\\nColleagues and experts can help improve your work,\\nespecially if they need to reuse it.\\nHow?\\nOrganise a representative group of experts and\\nhave them look at your work in a structured way.\\nPeer reviews can be done in formal and less formal\\nways. What makes or breaks the review is getting the\\nright colleagues or experts and giving them the right\\ninstructions for looking at and reporting about your\\nwork.\\nIngredients\\nSomewhere between 1 and 10 colleagues or other (external) experts.\\nA way to show your work (e.g. a big screen or printouts).\\nReview instructions and reporting guidelines.\\nA laptop to make notes of your own observations and conclusions.\\nIn practice\\nThere are many forms of peer review in practice,\\nranging from a quick (but structured) glance at your\\nwork by a colleague to a full session with multiple\\nexperts who watch you talk them through your work\\non a big screen.', metadata={'backlinks': ['Methods', 'Methods per Project Phase', 'Validate', 'Realise as an expert', 'Showroom methods for machine learning'], 'categories': ['Category:Showroom'], 'document_id': 'ec1f8825-4696-4dde-9847-794b6f6c39c0', 'title': 'Peer review', 'url': 'https://ictresearchmethods.nl/Peer_review'})]"
      ]
     },
     "execution_count": 2,
     "metadata": {},
     "output_type": "execute_result"
    }
   ],
   "source": [
    "query = \"What is an expert interview?\"\n",
    "\n",
    "vectorstore.similarity_search(\n",
    "    query,  # our search query\n",
    "    k=3  # return 3 most relevant docs\n",
    ")"
   ]
  },
  {
   "cell_type": "code",
   "execution_count": null,
   "metadata": {},
   "outputs": [
    {
     "data": {
      "text/plain": [
       "'An expert interview is a method of getting a better understanding of a new problem area that you are not familiar with. It involves finding an expert in the relevant domain who is willing to talk to you about the problem and arranging an interview. During the interview, the expert can recommend sources, give you a sense of direction, or point out common pitfalls. This method is often used at the beginning of a project to gather more relevant information than what can be gathered from literature.'"
      ]
     },
     "execution_count": 3,
     "metadata": {},
     "output_type": "execute_result"
    }
   ],
   "source": [
    "from dotsavvy.agents.conversation import ConversationAgent\n",
    "\n",
    "agent = ConversationAgent()\n",
    "\n",
    "agent.run(\"What is an expert interview?\")"
   ]
  }
 ],
 "metadata": {
  "kernelspec": {
   "display_name": "dotsavvy-8IKj5uE2-py3.10",
   "language": "python",
   "name": "python3"
  },
  "language_info": {
   "codemirror_mode": {
    "name": "ipython",
    "version": 3
   },
   "file_extension": ".py",
   "mimetype": "text/x-python",
   "name": "python",
   "nbconvert_exporter": "python",
   "pygments_lexer": "ipython3",
   "version": "3.10.6"
  },
  "orig_nbformat": 4
 },
 "nbformat": 4,
 "nbformat_minor": 2
}
